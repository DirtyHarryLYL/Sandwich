{
 "cells": [
  {
   "cell_type": "code",
   "execution_count": 1,
   "metadata": {},
   "outputs": [],
   "source": [
    "import json\n",
    "import pickle\n",
    "import numpy as np\n",
    "\n",
    "import os\n",
    "os.chdir(\"..\")"
   ]
  },
  {
   "cell_type": "code",
   "execution_count": 5,
   "metadata": {},
   "outputs": [
    {
     "name": "stdout",
     "output_type": "stream",
     "text": [
      "Action label:  HAA//unevenbar_cross\n",
      "\n",
      "Nodes with aligned semantics:\n",
      "escape-51.1-1-3\n",
      "amalgamate-22.2-2-1\n",
      "amalgamate-22.2-2-1\n",
      "amalgamate-22.2-2-1\n",
      "meander-47.7-1\n",
      "meander-47.7\n",
      "meander-47.7\n",
      "meander-47.7\n",
      "crane-40.3.2\n"
     ]
    }
   ],
   "source": [
    "Label2Node = json.load(open(\"./Data/Label2Node_batch1+2+3.json\", \"r\"))\n",
    "for label, nodes in Label2Node.items():\n",
    "    print(\"Action label: \", label)\n",
    "    print(\"\\nNodes with aligned semantics:\")\n",
    "    for node in nodes:\n",
    "        print(node)\n",
    "    break"
   ]
  }
 ],
 "metadata": {
  "kernelspec": {
   "display_name": "Python 3",
   "language": "python",
   "name": "python3"
  },
  "language_info": {
   "codemirror_mode": {
    "name": "ipython",
    "version": 3
   },
   "file_extension": ".py",
   "mimetype": "text/x-python",
   "name": "python",
   "nbconvert_exporter": "python",
   "pygments_lexer": "ipython3",
   "version": "3.6.9"
  },
  "orig_nbformat": 4
 },
 "nbformat": 4,
 "nbformat_minor": 2
}
