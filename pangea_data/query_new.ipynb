{
 "cells": [
  {
   "cell_type": "code",
   "execution_count": 1,
   "metadata": {},
   "outputs": [],
   "source": [
    "import json\n",
    "import pickle\n",
    "import numpy as np\n",
    "import sklearn\n",
    "from gensim.models import KeyedVectors\n",
    "\n",
    "import os\n",
    "os.chdir(\"..\")\n",
    "\n",
    "w2v_model = KeyedVectors.load_word2vec_format('./Data/GoogleNews-vectors-negative300.bin', binary=True)"
   ]
  },
  {
   "cell_type": "code",
   "execution_count": 2,
   "metadata": {},
   "outputs": [
    {
     "name": "stdout",
     "output_type": "stream",
     "text": [
      "/usr/lib/python3/dist-packages/secretstorage/dhcrypto.py:15: CryptographyDeprecationWarning: int_from_bytes is deprecated, use int.from_bytes instead\n",
      "  from cryptography.utils import int_from_bytes\n",
      "/usr/lib/python3/dist-packages/secretstorage/util.py:19: CryptographyDeprecationWarning: int_from_bytes is deprecated, use int.from_bytes instead\n",
      "  from cryptography.utils import int_from_bytes\n",
      "Defaulting to user installation because normal site-packages is not writeable\n",
      "Collecting gensim\n",
      "  Downloading gensim-4.2.0.tar.gz (23.2 MB)\n",
      "     |████████████████████████████████| 23.2 MB 45 kB/s             \n",
      "\u001b[?25h  Preparing metadata (setup.py) ... \u001b[?25ldone\n",
      "\u001b[?25hRequirement already satisfied: numpy>=1.17.0 in /home/sandwich/.local/lib/python3.6/site-packages (from gensim) (1.19.5)\n",
      "Requirement already satisfied: scipy>=0.18.1 in /home/sandwich/.local/lib/python3.6/site-packages (from gensim) (1.5.4)\n",
      "Requirement already satisfied: smart_open>=1.8.1 in /home/sandwich/.local/lib/python3.6/site-packages (from gensim) (6.3.0)\n",
      "Building wheels for collected packages: gensim\n",
      "  Building wheel for gensim (setup.py) ... \u001b[?25ldone\n",
      "\u001b[?25h  Created wheel for gensim: filename=gensim-4.2.0-cp36-cp36m-linux_x86_64.whl size=25519800 sha256=ef880166effcbc8fc7242aaa77b69fdb3d22269cfad4a7cf0eadab88d9fd513e\n",
      "  Stored in directory: /home/sandwich/.cache/pip/wheels/44/1e/2b/b0056a533d057c3ed56c84fbdd79cca690496f4cd7c03c157c\n",
      "Successfully built gensim\n",
      "Installing collected packages: gensim\n",
      "Successfully installed gensim-4.2.0\n"
     ]
    }
   ],
   "source": [
    "!pip install gensim"
   ]
  },
  {
   "cell_type": "code",
   "execution_count": 22,
   "metadata": {},
   "outputs": [
    {
     "name": "stdout",
     "output_type": "stream",
     "text": [
      "/usr/lib/python3/dist-packages/secretstorage/dhcrypto.py:15: CryptographyDeprecationWarning: int_from_bytes is deprecated, use int.from_bytes instead\n",
      "  from cryptography.utils import int_from_bytes\n",
      "/usr/lib/python3/dist-packages/secretstorage/util.py:19: CryptographyDeprecationWarning: int_from_bytes is deprecated, use int.from_bytes instead\n",
      "  from cryptography.utils import int_from_bytes\n",
      "Defaulting to user installation because normal site-packages is not writeable\n",
      "Looking in indexes: https://pypi.tuna.tsinghua.edu.cn/simple\n",
      "Requirement already satisfied: scikit-learn in /home/sandwich/.local/lib/python3.6/site-packages (0.24.2)\n",
      "\u001b[33mWARNING: Retrying (Retry(total=4, connect=None, read=None, redirect=None, status=None)) after connection broken by 'NewConnectionError('<pip._vendor.urllib3.connection.HTTPSConnection object at 0x7fdf9769d7f0>: Failed to establish a new connection: [Errno -2] Name or service not known',)': /simple/scikit-learn/\u001b[0m\n",
      "\u001b[33mWARNING: Retrying (Retry(total=3, connect=None, read=None, redirect=None, status=None)) after connection broken by 'NewConnectionError('<pip._vendor.urllib3.connection.HTTPSConnection object at 0x7fdf9769da90>: Failed to establish a new connection: [Errno -2] Name or service not known',)': /simple/scikit-learn/\u001b[0m\n",
      "Requirement already satisfied: threadpoolctl>=2.0.0 in /home/sandwich/.local/lib/python3.6/site-packages (from scikit-learn) (3.1.0)\n",
      "Requirement already satisfied: numpy>=1.13.3 in /home/sandwich/.local/lib/python3.6/site-packages (from scikit-learn) (1.19.5)\n",
      "Requirement already satisfied: joblib>=0.11 in /home/sandwich/.local/lib/python3.6/site-packages (from scikit-learn) (1.1.0)\n",
      "Requirement already satisfied: scipy>=0.19.1 in /home/sandwich/.local/lib/python3.6/site-packages (from scikit-learn) (1.5.4)\n"
     ]
    }
   ],
   "source": [
    "!pip install --upgrade scikit-learn -i https://pypi.tuna.tsinghua.edu.cn/simple"
   ]
  },
  {
   "cell_type": "code",
   "execution_count": 11,
   "metadata": {},
   "outputs": [],
   "source": [
    "skip_token = ['to', 'and', 'a', 'of']\n",
    "replace_token = {\n",
    "    # 'jinrikisha':'rickshaw',\n",
    "    # 'dhole':'dog',\n",
    "    # 'madagascar':'Madagascar',\n",
    "    # 'axe':'ax',\n",
    "}\n",
    "\n",
    "def get_w2v(string):\n",
    "    \n",
    "    string = string.lower().replace(\"_\",\" \").replace(\"-\",\" \").replace(\":\",\" \").replace(\",\",\" \").replace(\"/\", \" \")\n",
    "    vector = []\n",
    "    for token in string.split():\n",
    "        if token in replace_token:\n",
    "            token = replace_token[token]\n",
    "        if token not in skip_token:\n",
    "            try:\n",
    "                vector.append(w2v_model[token])\n",
    "            except:\n",
    "                continue\n",
    "    vector = np.vstack(vector)\n",
    "    # vector = np.sum(vector,axis=0)\n",
    "    vector = np.mean(vector,axis=0)\n",
    "    return vector.tolist()"
   ]
  },
  {
   "cell_type": "code",
   "execution_count": 24,
   "metadata": {},
   "outputs": [],
   "source": [
    "from scipy.spatial.distance import cosine\n",
    "\n",
    "def pairwise_cosine_distance(x, y):\n",
    "    distances = []\n",
    "    for xi in x:\n",
    "        for yj in y:\n",
    "            distance = cosine(xi, yj)\n",
    "            distances.append(distance)\n",
    "    return distances"
   ]
  },
  {
   "cell_type": "code",
   "execution_count": 28,
   "metadata": {},
   "outputs": [
    {
     "name": "stdout",
     "output_type": "stream",
     "text": [
      "collected_embed (3666, 300)\n",
      "target_embed (1, 300)\n",
      "top-5 related collected activities ['HICO_DET//type_on laptop' 'Home_Action_Genome//type on laptop'\n",
      " 'HICO_DET//read laptop' 'charades//Putting a laptop somewhere'\n",
      " 'Home_Action_Genome//watch laptop']\n"
     ]
    },
    {
     "name": "stderr",
     "output_type": "stream",
     "text": [
      "/home/sandwich/.local/lib/python3.6/site-packages/scipy/spatial/distance.py:714: RuntimeWarning: invalid value encountered in double_scalars\n",
      "  dist = 1.0 - uv / np.sqrt(uu * vv)\n"
     ]
    }
   ],
   "source": [
    "target_label = \"type the laptop\" # enter the new activities you are interested in\n",
    "\n",
    "## find related activities in our collected activities\n",
    "Label2Node = json.load(open(\"./Data/Label2Node_batch1+2+3.json\", \"r\"))\n",
    "collected_activities = np.array([k for k in Label2Node.keys()])\n",
    "collected_embed = []\n",
    "for act in collected_activities:\n",
    "    act = act.split('//')[1]\n",
    "    try:\n",
    "        vec = get_w2v(act)\n",
    "        collected_embed.append(vec)\n",
    "    except:\n",
    "        collected_embed.append(np.zeros(300).tolist())\n",
    "# collected_embed = np.array([get_w2v(act) for act in collected_activities])\n",
    "collected_embed = np.array(collected_embed)\n",
    "print(\"collected_embed\", collected_embed.shape)\n",
    "\n",
    "target_embed = np.array([get_w2v(target_label)])\n",
    "print(\"target_embed\", target_embed.shape)\n",
    "\n",
    "# cosine_dist = sklearn.metrics.pairwise.cosine_distances(target_embed, collected_embed)\n",
    "cosine_dist = pairwise_cosine_distance(target_embed, collected_embed)\n",
    "index = np.argsort(cosine_dist)\n",
    "print(\"top-5 related collected activities\", collected_activities[index[:5]])"
   ]
  },
  {
   "cell_type": "code",
   "execution_count": 36,
   "metadata": {},
   "outputs": [
    {
     "name": "stdout",
     "output_type": "stream",
     "text": [
      "mapped nodes, confidence\n",
      "assessment-34.1, 0.6\n",
      "comprehend-87.2-1, 0.2\n",
      "crane-40.3.2, 0.2\n",
      "create-26.4, 0.2\n",
      "create-26.4-1, 0.2\n",
      "create-26.4-1-1, 0.2\n",
      "drive-11.5, 0.2\n",
      "engender-27.1, 0.2\n",
      "instr_communication-37.4.1, 0.4\n",
      "learn-14-1, 0.2\n",
      "learn-14-2-1, 0.2\n",
      "peer-30.3, 0.2\n",
      "put_spatial-9.2, 0.2\n",
      "register-54.1-1-1, 0.2\n",
      "scribble-25.2, 0.2\n",
      "scribble-25.2-1, 0.4\n",
      "see-30.1-1, 0.2\n",
      "send-11.1-1, 0.2\n",
      "sight-30.2, 0.2\n",
      "spatial_configuration-47.6-1, 0.2\n",
      "transcribe-25.4, 0.6\n",
      "transfer_mesg-37.1.1-1, 0.2\n",
      "turn-26.6.1, 0.2\n",
      "use-105.1, 0.2\n",
      "work-73.2, 0.2\n"
     ]
    }
   ],
   "source": [
    "## get mapped nodes\n",
    "TOPK = 5\n",
    "mapped_nodes = []\n",
    "for idx in index[:TOPK]:\n",
    "    mapped_nodes.extend(np.unique(np.array(Label2Node[collected_activities[idx]])).tolist())\n",
    "mapped_nodes = np.array(mapped_nodes)\n",
    "\n",
    "unique_nodes, unique_counts = np.unique(mapped_nodes, return_counts=True)\n",
    "\n",
    "print(\"mapped nodes, confidence\")\n",
    "for n, c in zip(unique_nodes, unique_counts):\n",
    "    print(\"%s, %.1f\"%(n, c/float(TOPK)))"
   ]
  }
 ],
 "metadata": {
  "kernelspec": {
   "display_name": "Python 3",
   "language": "python",
   "name": "python3"
  },
  "language_info": {
   "codemirror_mode": {
    "name": "ipython",
    "version": 3
   },
   "file_extension": ".py",
   "mimetype": "text/x-python",
   "name": "python",
   "nbconvert_exporter": "python",
   "pygments_lexer": "ipython3",
   "version": "3.6.9"
  },
  "orig_nbformat": 4
 },
 "nbformat": 4,
 "nbformat_minor": 2
}
